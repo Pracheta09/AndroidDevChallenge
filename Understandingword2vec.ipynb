{
  "nbformat": 4,
  "nbformat_minor": 0,
  "metadata": {
    "colab": {
      "name": "Understanding Word2Vec.ipynb",
      "version": "0.3.2",
      "provenance": [],
      "collapsed_sections": []
    },
    "kernelspec": {
      "name": "python3",
      "display_name": "Python 3"
    }
  },
  "cells": [
    {
      "cell_type": "markdown",
      "metadata": {
        "id": "Q5P4YTiRRf4V",
        "colab_type": "text"
      },
      "source": [
        "**Word Embedding** is a technique to transform text into vectors of real numbers.\n",
        "This transformation is necessary because many Machine Learning algorithms and almost all Deep Learning Architectures are incapable of processing strings or plain text in their raw form. \n",
        "\n",
        "We can achieve above using Frequency based Embedding or Predictive based embeddings.\n",
        "\n",
        "Word2Vec is a predictive embedding model.\n",
        "It was developed at Google by a research team led by Tomas Mikolov\n",
        "(Paper : Efficient Estimation of Word Representations : https://arxiv.org/pdf/1301.3781.pdf )\n",
        "\n",
        "The paper shares the following result:\n",
        "“Using a word offset technique where simple algebraic operations are performed on the word vectors, it was shown for example that vector(”King”) — vector(”Man”) + vector(”Woman”) results in a vector that is closest to the vector representation of the word Queen.”\n",
        "\n",
        "Diagram :\n",
        "\n",
        "Word2vec is not a single algorithm but a combination of two techniques — CBOW(Continuous bag of words) and Skip-gram model. Word2vec can utilize either of two model architectures to produce a distributed representation of words.\n",
        "\n",
        "In the continuous bag-of-words architecture, the model predicts the current word from a window of surrounding context words.\n",
        "In the  skip-gram architecture, the model uses the current word to predict the surrounding window of context words. \n",
        "\n",
        "Diagram : \n",
        "\n",
        "Consider the example-\n",
        "\n",
        "Surely son half  **kingdom** is better than none. \n",
        "\n",
        "Kingdom is our target word and son, half, is, better belong to context of kingdom.\n",
        "The thought/assumption is that :\n",
        "Words which are used and occur in the same contexts tend to purport similar meaning\n",
        "Implementation of context window in word2vec is dynamic\n",
        "A dynamic context window has a maximum window size. Context is sampled from the maximum window size with probability 1/d, where d is the distance between the word to the target.\n",
        "\n",
        "Consider target word kingdom using dynamic context window with max_size=2\n",
        "(half,is) have 1/1 probability of being included in the context since they are one word away\n",
        "(son,better) have a 1/2 probability of being included in the context since they are two words away\n",
        "\n",
        "Using this concept, the Continuous Bag of Words and the Skip Gram model separates data into observations of target words and their context.\n",
        "Continuous Bag of Words -\n",
        "We structure the data such that the context is used to predict the target word. For example, if our context is (son,half,is,better), we use that as features of the class kingdom.\n",
        "Skip Gram\n",
        "We structure the data such that the target word is used to predict the context. For example, we use the feature (kingdom) to predict the context (son,half,is,better)\n",
        "\n",
        "Few of the advantages over traditional methods are listed below.\n",
        "The generated word vectors are lower in dimension, and are more computationally efficient.\n",
        "Word embedding allows words with similar meaning to have similar vector representation.\n"
      ]
    },
    {
      "cell_type": "markdown",
      "metadata": {
        "id": "h6znuafeW-94",
        "colab_type": "text"
      },
      "source": [
        "Now that we have a basic understanding of word embeddings and Word2Vec, lets get our hands dirty with some code. In this article we will be using Gensim implementation of Word2Vec. Gensim is an open source Python library for natural language processing, with a focus on topic modeling.\n",
        "\n",
        "Below implementation is divided into :\n",
        "1. Data pre processing\n",
        "2. Training the model\n",
        "3. Playing around with the model\n",
        "4. Visualising it"
      ]
    },
    {
      "cell_type": "markdown",
      "metadata": {
        "id": "Un9LXilZYYU7",
        "colab_type": "text"
      },
      "source": [
        "##1.Data pre processing\n"
      ]
    },
    {
      "cell_type": "markdown",
      "metadata": {
        "id": "gWdo_CeHBZG2",
        "colab_type": "text"
      },
      "source": [
        "Data Source : GOT books in text format\n",
        "\n",
        "Link : https://www.kaggle.com/khulasasndh/game-of-thrones-books/downloads/game-of-thrones-books.zip/1 \n",
        "    \n",
        "    "
      ]
    },
    {
      "cell_type": "markdown",
      "metadata": {
        "id": "51IguBgvXcpS",
        "colab_type": "text"
      },
      "source": [
        "Gensim’s word2vec expects a sequence of sentences as its input. Each sentence a list of words (utf8 strings).\n",
        "Here we read the fies in the dataset one by one and break each file into sentences and then tokenize it.\n",
        "\n",
        "Tip : Explore more on the generators in Python\n"
      ]
    },
    {
      "cell_type": "code",
      "metadata": {
        "id": "CdWjJ9wmBevH",
        "colab_type": "code",
        "colab": {}
      },
      "source": [
        "\n",
        "import os\n",
        "from gensim.models import Word2Vec\n",
        "from gensim.utils import simple_preprocess\n",
        "from nltk.tokenize import sent_tokenize\n",
        "\n",
        "class MySentences(object):\n",
        "  def __init__(self,dirname):\n",
        "    self.dirname = dirname\n",
        "    self.sentence_count = 0\n",
        "    \n",
        "  def __iter__(self):\n",
        "    for fname in os.listdir(self.dirname):\n",
        "      with open(os.path.join(self.dirname,fname),encoding=\"utf8\", errors='ignore' ) as f_input:\n",
        "        corpus = f_input.read()\n",
        "        raw_sentences = sent_tokenize(corpus)\n",
        "        for sentence in raw_sentences:\n",
        "          if len(sentence) > 0:\n",
        "            self.sentence_count += 1\n",
        "            sentence.encode('utf-8').strip()\n",
        "            yield simple_preprocess(sentence)\n",
        "            ''' Pre processing :\n",
        "            gensim.utils.simple_preprocess-\n",
        "             Convert a document into a list of tokens.\n",
        "             This lowercases, tokenizes, de-accents (optional). – the output are final tokens = unicode strings, that won’t be processed any further.\n",
        "            '''\n",
        "            \n",
        "           \n",
        "            \n",
        "sentences = MySentences(\"/content/drive/My Drive/Colab Notebooks/Got_dataset\")\n",
        "#Takes a very long time since it goes to each file tokenizes into sentence and then to words\n",
        "#for i in sentences:\n",
        "#  print(i)"
      ],
      "execution_count": 0,
      "outputs": []
    },
    {
      "cell_type": "markdown",
      "metadata": {
        "id": "pykiMmgyIzUN",
        "colab_type": "text"
      },
      "source": [
        "You'll get something like-\n",
        "\n",
        "['game', 'of', 'thrones', 'book', 'one', 'of', 'song', 'of', 'ice', 'and', 'fire', 'by', 'george', 'martin', 'prologue', 'we', 'should', 'start', 'back', 'gared', 'urged', 'as', 'the', 'woods', 'began', 'to', 'grow', 'dark', 'around', 'them']\n",
        "['the', 'wildlings', 'are', 'dead']\n",
        "['do', 'the', 'dead', 'frighten', 'you']\n",
        "['ser', 'waymar', 'royce', 'asked', 'with', 'just', 'the', 'hint', 'of', 'smile']\n",
        "['gared', 'did', 'not', 'rise', 'to', 'the', 'bait']\n",
        "['he', 'was', 'an', 'old', 'man', 'past', 'fifty', 'and', 'he', 'had', 'seen', 'the', 'lordlings', 'come', 'and', 'go']\n",
        "['dead', 'is', 'dead', 'he', 'said']\n",
        "['we', 'have', 'no', 'business', 'with', 'the', 'dead']\n",
        "['are', 'they', 'dead']\n",
        "['royce', 'asked', 'softly']\n",
        "['what', 'proof', 'have', 'we']\n",
        "\n"
      ]
    },
    {
      "cell_type": "markdown",
      "metadata": {
        "id": "lSmWiZNoYcxP",
        "colab_type": "text"
      },
      "source": [
        "##2.Training the model"
      ]
    },
    {
      "cell_type": "code",
      "metadata": {
        "id": "agtE5-XXEXNF",
        "colab_type": "code",
        "outputId": "f0e7c5ca-2ed7-4b21-d6d3-0b0219c3aac8",
        "colab": {
          "base_uri": "https://localhost:8080/",
          "height": 71
        }
      },
      "source": [
        "model = Word2Vec(sg=1,size=300,window=10,min_count=3,workers=4)\n",
        "model.build_vocab(sentences)\n",
        "model.train(sentences=sentences,total_examples=model.corpus_count,epochs=model.epochs)\n",
        "model.save('GOT_vectors.w2v')\n",
        "\n",
        "\n",
        "'''\n",
        "Parameters explanation :\n",
        "\n",
        "sg :Training algorithm: 1 for skip-gram; otherwise CBOW.\n",
        "size: Dimensionality of the word vectors. This parameter for altering the size of the NN layers. Bigger size values require more training data, but can lead to better (more accurate) models.\n",
        "window The size of the window determines how many words before and after a given word would be included as context words of the given word.\n",
        "min_count: Words that appear only once or twice in a billion-word corpus are probably uninteresting typos and garbage, so its best to get rid of those.\n",
        "workers: Use these many worker threads to train the model.\n",
        "\n",
        "For more detailed : Gensim API-\n",
        "https://tedboy.github.io/nlps/generated/generated/gensim.models.Word2Vec.html#gensim.models.Word2Vec\n",
        "\n",
        "'''"
      ],
      "execution_count": 0,
      "outputs": [
        {
          "output_type": "stream",
          "text": [
            "/usr/local/lib/python3.6/dist-packages/smart_open/smart_open_lib.py:398: UserWarning: This function is deprecated, use smart_open.open instead. See the migration notes for details: https://github.com/RaRe-Technologies/smart_open/blob/master/README.rst#migrating-to-the-new-open-function\n",
            "  'See the migration notes for details: %s' % _MIGRATION_NOTES_URL\n"
          ],
          "name": "stderr"
        }
      ]
    },
    {
      "cell_type": "markdown",
      "metadata": {
        "id": "RrGOYv6QYksX",
        "colab_type": "text"
      },
      "source": [
        "##3.Playing around with the model"
      ]
    },
    {
      "cell_type": "code",
      "metadata": {
        "id": "lHg1nZU4Jk0E",
        "colab_type": "code",
        "outputId": "40e9762d-29c1-453b-c537-d6c9b490468f",
        "colab": {
          "base_uri": "https://localhost:8080/",
          "height": 190
        }
      },
      "source": [
        "model.most_similar('daenerys', topn=5)"
      ],
      "execution_count": 0,
      "outputs": [
        {
          "output_type": "stream",
          "text": [
            "/usr/local/lib/python3.6/dist-packages/ipykernel_launcher.py:1: DeprecationWarning: Call to deprecated `most_similar` (Method will be removed in 4.0.0, use self.wv.most_similar() instead).\n",
            "  \"\"\"Entry point for launching an IPython kernel.\n",
            "/usr/local/lib/python3.6/dist-packages/gensim/matutils.py:737: FutureWarning: Conversion of the second argument of issubdtype from `int` to `np.signedinteger` is deprecated. In future, it will be treated as `np.int64 == np.dtype(int).type`.\n",
            "  if np.issubdtype(vec.dtype, np.int):\n"
          ],
          "name": "stderr"
        },
        {
          "output_type": "execute_result",
          "data": {
            "text/plain": [
              "[('stormborn', 0.7775975465774536),\n",
              " ('khaleesi', 0.7446895241737366),\n",
              " ('targaryen', 0.7176743745803833),\n",
              " ('unburnt', 0.7083081007003784),\n",
              " ('kneel', 0.7010558843612671)]"
            ]
          },
          "metadata": {
            "tags": []
          },
          "execution_count": 37
        }
      ]
    },
    {
      "cell_type": "code",
      "metadata": {
        "id": "fUpW7tgNMr2U",
        "colab_type": "code",
        "outputId": "b140e03f-f110-48ce-ed27-b0de06b38bae",
        "colab": {
          "base_uri": "https://localhost:8080/",
          "height": 190
        }
      },
      "source": [
        "model.most_similar('eddard', topn=5)"
      ],
      "execution_count": 0,
      "outputs": [
        {
          "output_type": "stream",
          "text": [
            "/usr/local/lib/python3.6/dist-packages/ipykernel_launcher.py:1: DeprecationWarning: Call to deprecated `most_similar` (Method will be removed in 4.0.0, use self.wv.most_similar() instead).\n",
            "  \"\"\"Entry point for launching an IPython kernel.\n",
            "/usr/local/lib/python3.6/dist-packages/gensim/matutils.py:737: FutureWarning: Conversion of the second argument of issubdtype from `int` to `np.signedinteger` is deprecated. In future, it will be treated as `np.int64 == np.dtype(int).type`.\n",
            "  if np.issubdtype(vec.dtype, np.int):\n"
          ],
          "name": "stderr"
        },
        {
          "output_type": "execute_result",
          "data": {
            "text/plain": [
              "[('eddards', 0.7529487609863281),\n",
              " ('executed', 0.7379212379455566),\n",
              " ('lyanna', 0.7162431478500366),\n",
              " ('beheaded', 0.7123080492019653),\n",
              " ('farewell', 0.6969554424285889)]"
            ]
          },
          "metadata": {
            "tags": []
          },
          "execution_count": 38
        }
      ]
    },
    {
      "cell_type": "code",
      "metadata": {
        "id": "AsPxG4SgNM0c",
        "colab_type": "code",
        "outputId": "fef6deef-79ce-46c9-c36a-8de231b4ac25",
        "colab": {
          "base_uri": "https://localhost:8080/",
          "height": 190
        }
      },
      "source": [
        "model.most_similar('arya', topn=5)"
      ],
      "execution_count": 0,
      "outputs": [
        {
          "output_type": "stream",
          "text": [
            "/usr/local/lib/python3.6/dist-packages/ipykernel_launcher.py:1: DeprecationWarning: Call to deprecated `most_similar` (Method will be removed in 4.0.0, use self.wv.most_similar() instead).\n",
            "  \"\"\"Entry point for launching an IPython kernel.\n",
            "/usr/local/lib/python3.6/dist-packages/gensim/matutils.py:737: FutureWarning: Conversion of the second argument of issubdtype from `int` to `np.signedinteger` is deprecated. In future, it will be treated as `np.int64 == np.dtype(int).type`.\n",
            "  if np.issubdtype(vec.dtype, np.int):\n"
          ],
          "name": "stderr"
        },
        {
          "output_type": "execute_result",
          "data": {
            "text/plain": [
              "[('sansa', 0.6978222727775574),\n",
              " ('gendry', 0.6462435722351074),\n",
              " ('brienne', 0.6435647010803223),\n",
              " ('she', 0.6249253749847412),\n",
              " ('meera', 0.6126306653022766)]"
            ]
          },
          "metadata": {
            "tags": []
          },
          "execution_count": 39
        }
      ]
    },
    {
      "cell_type": "code",
      "metadata": {
        "id": "x6Q7ZSxCNQBr",
        "colab_type": "code",
        "outputId": "3c665a16-7e73-4c01-8db4-dca0c15ab92c",
        "colab": {
          "base_uri": "https://localhost:8080/",
          "height": 190
        }
      },
      "source": [
        "model.most_similar('jon', topn=5)"
      ],
      "execution_count": 0,
      "outputs": [
        {
          "output_type": "stream",
          "text": [
            "/usr/local/lib/python3.6/dist-packages/ipykernel_launcher.py:1: DeprecationWarning: Call to deprecated `most_similar` (Method will be removed in 4.0.0, use self.wv.most_similar() instead).\n",
            "  \"\"\"Entry point for launching an IPython kernel.\n",
            "/usr/local/lib/python3.6/dist-packages/gensim/matutils.py:737: FutureWarning: Conversion of the second argument of issubdtype from `int` to `np.signedinteger` is deprecated. In future, it will be treated as `np.int64 == np.dtype(int).type`.\n",
            "  if np.issubdtype(vec.dtype, np.int):\n"
          ],
          "name": "stderr"
        },
        {
          "output_type": "execute_result",
          "data": {
            "text/plain": [
              "[('stonesnake', 0.5901110172271729),\n",
              " ('ygritte', 0.5647125244140625),\n",
              " ('magnar', 0.5632466077804565),\n",
              " ('qhorin', 0.5598376989364624),\n",
              " ('styr', 0.5595405101776123)]"
            ]
          },
          "metadata": {
            "tags": []
          },
          "execution_count": 41
        }
      ]
    },
    {
      "cell_type": "code",
      "metadata": {
        "id": "flOSfd2NNUjE",
        "colab_type": "code",
        "outputId": "4053a07a-c9d6-487b-dc69-7d0bda6cd466",
        "colab": {
          "base_uri": "https://localhost:8080/",
          "height": 122
        }
      },
      "source": [
        "model.similarity('arya', 'sansa')"
      ],
      "execution_count": 0,
      "outputs": [
        {
          "output_type": "stream",
          "text": [
            "/usr/local/lib/python3.6/dist-packages/ipykernel_launcher.py:1: DeprecationWarning: Call to deprecated `similarity` (Method will be removed in 4.0.0, use self.wv.similarity() instead).\n",
            "  \"\"\"Entry point for launching an IPython kernel.\n",
            "/usr/local/lib/python3.6/dist-packages/gensim/matutils.py:737: FutureWarning: Conversion of the second argument of issubdtype from `int` to `np.signedinteger` is deprecated. In future, it will be treated as `np.int64 == np.dtype(int).type`.\n",
            "  if np.issubdtype(vec.dtype, np.int):\n"
          ],
          "name": "stderr"
        },
        {
          "output_type": "execute_result",
          "data": {
            "text/plain": [
              "0.69782233"
            ]
          },
          "metadata": {
            "tags": []
          },
          "execution_count": 42
        }
      ]
    },
    {
      "cell_type": "code",
      "metadata": {
        "id": "_yl08KVnNgPE",
        "colab_type": "code",
        "outputId": "34a8db4d-66dc-4c32-c921-2815a3231720",
        "colab": {
          "base_uri": "https://localhost:8080/",
          "height": 122
        }
      },
      "source": [
        "model.similarity('sansa', 'stark')"
      ],
      "execution_count": 0,
      "outputs": [
        {
          "output_type": "stream",
          "text": [
            "/usr/local/lib/python3.6/dist-packages/ipykernel_launcher.py:1: DeprecationWarning: Call to deprecated `similarity` (Method will be removed in 4.0.0, use self.wv.similarity() instead).\n",
            "  \"\"\"Entry point for launching an IPython kernel.\n",
            "/usr/local/lib/python3.6/dist-packages/gensim/matutils.py:737: FutureWarning: Conversion of the second argument of issubdtype from `int` to `np.signedinteger` is deprecated. In future, it will be treated as `np.int64 == np.dtype(int).type`.\n",
            "  if np.issubdtype(vec.dtype, np.int):\n"
          ],
          "name": "stderr"
        },
        {
          "output_type": "execute_result",
          "data": {
            "text/plain": [
              "0.44026735"
            ]
          },
          "metadata": {
            "tags": []
          },
          "execution_count": 44
        }
      ]
    },
    {
      "cell_type": "code",
      "metadata": {
        "id": "8oexExEeNnSa",
        "colab_type": "code",
        "outputId": "6125f326-ea0b-44fe-e258-143c283c987f",
        "colab": {
          "base_uri": "https://localhost:8080/",
          "height": 156
        }
      },
      "source": [
        "model.doesnt_match(['cersei', 'jaime', 'bronn', 'tyrion'])"
      ],
      "execution_count": 0,
      "outputs": [
        {
          "output_type": "stream",
          "text": [
            "/usr/local/lib/python3.6/dist-packages/ipykernel_launcher.py:1: DeprecationWarning: Call to deprecated `doesnt_match` (Method will be removed in 4.0.0, use self.wv.doesnt_match() instead).\n",
            "  \"\"\"Entry point for launching an IPython kernel.\n",
            "/usr/local/lib/python3.6/dist-packages/gensim/models/keyedvectors.py:895: FutureWarning: arrays to stack must be passed as a \"sequence\" type such as list or tuple. Support for non-sequence iterables such as generators is deprecated as of NumPy 1.16 and will raise an error in the future.\n",
            "  vectors = vstack(self.word_vec(word, use_norm=True) for word in used_words).astype(REAL)\n",
            "/usr/local/lib/python3.6/dist-packages/gensim/matutils.py:737: FutureWarning: Conversion of the second argument of issubdtype from `int` to `np.signedinteger` is deprecated. In future, it will be treated as `np.int64 == np.dtype(int).type`.\n",
            "  if np.issubdtype(vec.dtype, np.int):\n"
          ],
          "name": "stderr"
        },
        {
          "output_type": "execute_result",
          "data": {
            "text/plain": [
              "'bronn'"
            ]
          },
          "metadata": {
            "tags": []
          },
          "execution_count": 45
        }
      ]
    },
    {
      "cell_type": "code",
      "metadata": {
        "id": "8NER0aOINuTb",
        "colab_type": "code",
        "outputId": "72a072a6-19e6-47a7-8432-d4d7c994a83f",
        "colab": {
          "base_uri": "https://localhost:8080/",
          "height": 88
        }
      },
      "source": [
        "model.most_similar_cosmul(positive=[\"winterfell\", \"martell\"], negative=[\"stark\"], topn=1)"
      ],
      "execution_count": 0,
      "outputs": [
        {
          "output_type": "stream",
          "text": [
            "/usr/local/lib/python3.6/dist-packages/ipykernel_launcher.py:1: DeprecationWarning: Call to deprecated `most_similar_cosmul` (Method will be removed in 4.0.0, use self.wv.most_similar_cosmul() instead).\n",
            "  \"\"\"Entry point for launching an IPython kernel.\n"
          ],
          "name": "stderr"
        },
        {
          "output_type": "execute_result",
          "data": {
            "text/plain": [
              "[('sunspear', 0.9897435307502747)]"
            ]
          },
          "metadata": {
            "tags": []
          },
          "execution_count": 46
        }
      ]
    },
    {
      "cell_type": "markdown",
      "metadata": {
        "id": "oziCTbiAYvKn",
        "colab_type": "text"
      },
      "source": [
        "##4.Visualising it\n",
        "\n",
        "\n",
        "We will use t-SNE to reduce the data with 300 dimensions to 2 dimensions, so that we can plot the data on our screens.\n",
        "t-SNE is a non-linear dimensionality reduction algorithm that attempts to represent high-dimensional data and the underlying relationships between vectors in a lower-dimensional space.\n",
        "We can plot every word in the model vocabulary to find out clusters of similar words. But it will consume a lot of time and memory, so let’s just plot a sub-section of the entire picture, and see if we can spot interesting patterns."
      ]
    },
    {
      "cell_type": "code",
      "metadata": {
        "id": "Eef8T2MBN4HJ",
        "colab_type": "code",
        "colab": {}
      },
      "source": [
        "import numpy as np\n",
        "import matplotlib.pyplot as plt\n",
        "import seaborn as sns\n",
        "from gensim.models import Word2Vec\n",
        "from sklearn.manifold import TSNE\n",
        "import pandas as pd"
      ],
      "execution_count": 0,
      "outputs": []
    },
    {
      "cell_type": "code",
      "metadata": {
        "id": "fwGNUHPLOOq6",
        "colab_type": "code",
        "outputId": "53e7bd15-da04-4174-fcc9-8dbef3bf8002",
        "colab": {
          "base_uri": "https://localhost:8080/",
          "height": 467
        }
      },
      "source": [
        "plt.style.use('seaborn-whitegrid')\n",
        "def tsne_scatterplot(model, search_word):\n",
        "    labels = [search_word]\n",
        "    tokens = [model[search_word]]\n",
        "    similar = [1]\n",
        "    close_words = model.similar_by_word(search_word, topn=20)\n",
        "    for word in close_words:\n",
        "        tokens.append(model[word[0]])\n",
        "        labels.append(word[0])\n",
        "        similar.append(word[1])\n",
        "\n",
        "    tsne_model = TSNE(n_components=2, init='pca')\n",
        "    coordinates = tsne_model.fit_transform(tokens)\n",
        "    df = pd.DataFrame({'x': [x for x in coordinates[:, 0]],\n",
        "                       'y': [y for y in coordinates[:, 1]],\n",
        "                       'words': labels,\n",
        "                       'similarity': similar}\n",
        "                      )\n",
        "    fig, ax = plt.subplots()\n",
        "    plot = ax.scatter(df.x, df.y, c=df.similarity, cmap='Reds')\n",
        "    for i in range(len(df)):\n",
        "        ax.annotate(\"  {} ({:.2f})\".format(df.words[i].title(),\n",
        "                                           df.similarity[i]),\n",
        "                    (df.x[i], df.y[i]))\n",
        "\n",
        "    plt.colorbar(mappable=plot, ax=ax)\n",
        "    plt.title('t-SNE visualization for {}'.format(search_word))\n",
        "    plt.show()\n",
        "model = Word2Vec.load(\"GOT_vectors.w2v\")\n",
        "tsne_scatterplot(model, \"king\")\n"
      ],
      "execution_count": 0,
      "outputs": [
        {
          "output_type": "stream",
          "text": [
            "/usr/local/lib/python3.6/dist-packages/smart_open/smart_open_lib.py:398: UserWarning: This function is deprecated, use smart_open.open instead. See the migration notes for details: https://github.com/RaRe-Technologies/smart_open/blob/master/README.rst#migrating-to-the-new-open-function\n",
            "  'See the migration notes for details: %s' % _MIGRATION_NOTES_URL\n",
            "/usr/local/lib/python3.6/dist-packages/ipykernel_launcher.py:4: DeprecationWarning: Call to deprecated `__getitem__` (Method will be removed in 4.0.0, use self.wv.__getitem__() instead).\n",
            "  after removing the cwd from sys.path.\n",
            "/usr/local/lib/python3.6/dist-packages/ipykernel_launcher.py:6: DeprecationWarning: Call to deprecated `similar_by_word` (Method will be removed in 4.0.0, use self.wv.similar_by_word() instead).\n",
            "  \n",
            "/usr/local/lib/python3.6/dist-packages/gensim/matutils.py:737: FutureWarning: Conversion of the second argument of issubdtype from `int` to `np.signedinteger` is deprecated. In future, it will be treated as `np.int64 == np.dtype(int).type`.\n",
            "  if np.issubdtype(vec.dtype, np.int):\n",
            "/usr/local/lib/python3.6/dist-packages/ipykernel_launcher.py:8: DeprecationWarning: Call to deprecated `__getitem__` (Method will be removed in 4.0.0, use self.wv.__getitem__() instead).\n",
            "  \n"
          ],
          "name": "stderr"
        },
        {
          "output_type": "display_data",
          "data": {
            "image/png": "[encoded data removed]",
            "text/plain": [
              "<Figure size 432x288 with 2 Axes>"
            ]
          },
          "metadata": {
            "tags": []
          }
        }
      ]
    },
    {
      "cell_type": "code",
      "metadata": {
        "id": "DT1odFrROWXB",
        "colab_type": "code",
        "colab": {}
      },
      "source": [
        ""
      ],
      "execution_count": 0,
      "outputs": []
    }
  ]
}
