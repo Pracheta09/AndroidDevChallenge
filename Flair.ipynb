{
  "nbformat": 4,
  "nbformat_minor": 0,
  "metadata": {
    "colab": {
      "name": " Flair it.ipynb",
      "version": "0.3.2",
      "provenance": [],
      "collapsed_sections": []
    },
    "kernelspec": {
      "name": "python3",
      "display_name": "Python 3"
    }
  },
  "cells": [
    {
      "cell_type": "markdown",
      "metadata": {
        "id": "HbyOG9UoaocM",
        "colab_type": "text"
      },
      "source": [
        "**Flair** is a simple natural language processing (NLP) library developed and open-sourced by **Zalando Research**. \n",
        "Flair’s framework builds directly on PyTorch, one of the best deep learning frameworks out there. The Zalando Research team has also released several pre-trained models for the following NLP tasks:\n",
        "\n",
        "1. Name-Entity Recognition (NER): It can recognise whether a word represents a person, location or names in the text.\n",
        "2. Parts-of-Speech Tagging (PoS): Tags all the words in the given text as to which “part of speech” they belong to.\n",
        "3. Text Classification: Classifying text based on the criteria (labels)\n",
        "4. Word Embeddings and Training Custom Models: Making our own custom models.\n",
        "\n",
        "\n"
      ]
    },
    {
      "cell_type": "markdown",
      "metadata": {
        "id": "waI5y18FfCLD",
        "colab_type": "text"
      },
      "source": [
        "#Basics of Flair : \n",
        "https://github.com/zalandoresearch/flair/blob/master/resources/docs/TUTORIAL_1_BASICS.md"
      ]
    },
    {
      "cell_type": "markdown",
      "metadata": {
        "id": "x2fmiYiIJVoA",
        "colab_type": "text"
      },
      "source": [
        "#NER and POS with Flair"
      ]
    },
    {
      "cell_type": "markdown",
      "metadata": {
        "id": "v29dktSKLEFz",
        "colab_type": "text"
      },
      "source": [
        "What all can we do -\n",
        "\n",
        "ID\tTask\tTraining Dataset\tAccuracy\n",
        "\n",
        "'ner'\t4-class Named Entity Recognition\t\n",
        "'ner-ontonotes'\t12-class Named Entity Recognition\t\n",
        "'chunk'\tSyntactic Chunking\t\n",
        "'pos'\tPart-of-Speech Tagging\t\n",
        "'frame'\tSemantic Frame Detection "
      ]
    },
    {
      "cell_type": "code",
      "metadata": {
        "id": "5ar6BKdFz2Bi",
        "colab_type": "code",
        "outputId": "c0701fa9-403b-4c41-c50b-cb78af8e311c",
        "colab": {
          "base_uri": "https://localhost:8080/",
          "height": 34
        }
      },
      "source": [
        "from flair.data import Sentence\n",
        "from flair.models import SequenceTagger\n",
        "\n"
      ],
      "execution_count": 0,
      "outputs": [
        {
          "output_type": "stream",
          "text": [
            "2019-06-28 16:06:51,021 loading file /root/.flair/models/en-ner-conll03-v0.4.pt\n"
          ],
          "name": "stdout"
        }
      ]
    },
    {
      "cell_type": "code",
      "metadata": {
        "id": "PXxCvEcq7xqV",
        "colab_type": "code",
        "colab": {}
      },
      "source": [
        "class modelPerformance:\n",
        "  \n",
        "  def __init__(self,models):\n",
        "    self.models = models\n",
        "    \n",
        "  def predict(self,sentence):\n",
        "    for model in self.models:\n",
        "      tagger = SequenceTagger.load(model)\n",
        "      tagger.predict(sentence)\n",
        "      print(model,' :')\n",
        "      for entity in sentence.get_spans(model):\n",
        "        print(entity)\n",
        "     "
      ],
      "execution_count": 0,
      "outputs": []
    },
    {
      "cell_type": "code",
      "metadata": {
        "id": "sQJUTFXj9MiJ",
        "colab_type": "code",
        "outputId": "a2904ac3-43d8-43d6-992c-d3810c8101db",
        "colab": {
          "base_uri": "https://localhost:8080/",
          "height": 1000
        }
      },
      "source": [
        "#No results for rest 3 - ner-ontonotes,chunk,frame\n",
        "\n",
        "text=[\"Hello My name is Pracheta\",\n",
        "      \"How are you doing\",\n",
        "     \"Volume data for Murex and Settlements is 9K and 5K now\",\n",
        "     \"Volumes are normal\",\n",
        "     \"Bayes HCM server is down\",\n",
        "     \"iProd issue is going on\"]\n",
        "\n",
        "for t in text:\n",
        "  sentence = Sentence(t,use_tokenizer=True)\n",
        "  test = modelPerformance(['ner','pos'])\n",
        "  test.predict(sentence)"
      ],
      "execution_count": 0,
      "outputs": [
        {
          "output_type": "stream",
          "text": [
            "2019-06-28 17:52:23,090 loading file /root/.flair/models/en-ner-conll03-v0.4.pt\n",
            "ner  :\n",
            "PER-span [5]: \"Pracheta\"\n",
            "2019-06-28 17:52:25,007 loading file /root/.flair/models/en-pos-ontonotes-v0.2.pt\n",
            "pos  :\n",
            "UH-span [1]: \"Hello\"\n",
            "PRP$-span [2]: \"My\"\n",
            "NN-span [3]: \"name\"\n",
            "VBZ-span [4]: \"is\"\n",
            "NNP-span [5]: \"Pracheta\"\n",
            "2019-06-28 17:52:26,105 loading file /root/.flair/models/en-ner-conll03-v0.4.pt\n",
            "ner  :\n",
            "2019-06-28 17:52:28,654 loading file /root/.flair/models/en-pos-ontonotes-v0.2.pt\n",
            "pos  :\n",
            "WRB-span [1]: \"How\"\n",
            "VBP-span [2]: \"are\"\n",
            "PRP-span [3]: \"you\"\n",
            "VBG-span [4]: \"doing\"\n",
            "2019-06-28 17:52:29,599 loading file /root/.flair/models/en-ner-conll03-v0.4.pt\n",
            "ner  :\n",
            "ORG-span [4,5,6]: \"Murex and Settlements\"\n",
            "2019-06-28 17:52:31,968 loading file /root/.flair/models/en-pos-ontonotes-v0.2.pt\n",
            "pos  :\n",
            "NN-span [1]: \"Volume\"\n",
            "NNS-span [2]: \"data\"\n",
            "IN-span [3]: \"for\"\n",
            "NNP-span [4]: \"Murex\"\n",
            "CC-span [5]: \"and\"\n",
            "NNPS-span [6]: \"Settlements\"\n",
            "VBZ-span [7]: \"is\"\n",
            "NNP-span [8]: \"9K\"\n",
            "CC-span [9]: \"and\"\n",
            "NNP-span [10]: \"5K\"\n",
            "RB-span [11]: \"now\"\n",
            "2019-06-28 17:52:33,564 loading file /root/.flair/models/en-ner-conll03-v0.4.pt\n",
            "ner  :\n",
            "2019-06-28 17:52:36,101 loading file /root/.flair/models/en-pos-ontonotes-v0.2.pt\n",
            "pos  :\n",
            "NNS-span [1]: \"Volumes\"\n",
            "VBP-span [2]: \"are\"\n",
            "JJ-span [3]: \"normal\"\n",
            "2019-06-28 17:52:37,063 loading file /root/.flair/models/en-ner-conll03-v0.4.pt\n",
            "ner  :\n",
            "ORG-span [1,2]: \"Bayes HCM\"\n",
            "2019-06-28 17:52:38,900 loading file /root/.flair/models/en-pos-ontonotes-v0.2.pt\n",
            "pos  :\n",
            "NNP-span [1]: \"Bayes\"\n",
            "NNP-span [2]: \"HCM\"\n",
            "NN-span [3]: \"server\"\n",
            "VBZ-span [4]: \"is\"\n",
            "RB-span [5]: \"down\"\n",
            "2019-06-28 17:52:39,962 loading file /root/.flair/models/en-ner-conll03-v0.4.pt\n",
            "ner  :\n",
            "2019-06-28 17:52:43,180 loading file /root/.flair/models/en-pos-ontonotes-v0.2.pt\n",
            "pos  :\n",
            "NNP-span [1]: \"iProd\"\n",
            "NN-span [2]: \"issue\"\n",
            "VBZ-span [3]: \"is\"\n",
            "VBG-span [4]: \"going\"\n",
            "RP-span [5]: \"on\"\n"
          ],
          "name": "stdout"
        }
      ]
    },
    {
      "cell_type": "code",
      "metadata": {
        "id": "MWhqhgd60TbP",
        "colab_type": "code",
        "outputId": "ed86ecb5-883f-411c-bd3b-3dcb3d9f409d",
        "colab": {
          "base_uri": "https://localhost:8080/",
          "height": 292
        }
      },
      "source": [
        "sentence = Sentence('Volume data for Murex and Settlements is 9K and 5K now',use_tokenizer=True)\n",
        "\n",
        "#sentence[4].add_tag('ner','upstream')\n",
        "#sentence[6].add_tag('ner','upstream')\n",
        "tagger.predict(sentence)\n",
        "for token in sentence:\n",
        "  print(token)\n",
        "print('The following NER tags are found:')\n",
        "for entity in sentence.get_spans('ner'):\n",
        "    print(entity)\n",
        "print(sentence.to_tagged_string())\n",
        "print(sentence.to_dict(tag_type='ner'))"
      ],
      "execution_count": 0,
      "outputs": [
        {
          "output_type": "stream",
          "text": [
            "Token: 1 Volume\n",
            "Token: 2 data\n",
            "Token: 3 for\n",
            "Token: 4 Murex\n",
            "Token: 5 and\n",
            "Token: 6 Settlements\n",
            "Token: 7 is\n",
            "Token: 8 9K\n",
            "Token: 9 and\n",
            "Token: 10 5K\n",
            "Token: 11 now\n",
            "The following NER tags are found:\n",
            "ORG-span [4,5,6]: \"Murex and Settlements\"\n",
            "Volume data for Murex <B-ORG> and <I-ORG> Settlements <E-ORG> is 9K and 5K now\n",
            "{'text': 'Volume data for Murex and Settlements is 9K and 5K now', 'labels': [], 'entities': [{'text': 'Murex and Settlements', 'start_pos': 16, 'end_pos': 37, 'type': 'ORG', 'confidence': 0.6541547775268555}]}\n"
          ],
          "name": "stdout"
        }
      ]
    },
    {
      "cell_type": "code",
      "metadata": {
        "id": "Hs9ldxwb2Cfy",
        "colab_type": "code",
        "colab": {}
      },
      "source": [
        ""
      ],
      "execution_count": 0,
      "outputs": []
    },
    {
      "cell_type": "markdown",
      "metadata": {
        "id": "_w4MSOciI-7b",
        "colab_type": "text"
      },
      "source": [
        "#Classification - Positive/ Negative"
      ]
    },
    {
      "cell_type": "code",
      "metadata": {
        "id": "0XyPrcMMEIXG",
        "colab_type": "code",
        "outputId": "df485744-84dc-4270-9226-6c0de2d62f71",
        "colab": {
          "base_uri": "https://localhost:8080/",
          "height": 156
        }
      },
      "source": [
        "from flair.models import TextClassifier\n",
        "classifier = TextClassifier.load('en-sentiment')"
      ],
      "execution_count": 0,
      "outputs": [
        {
          "output_type": "stream",
          "text": [
            "2019-06-28 17:10:13,283 https://s3.eu-central-1.amazonaws.com/alan-nlp/resources/models-v0.4/TEXT-CLASSIFICATION_imdb/imdb.pt not found in cache, downloading to /tmp/tmpto2wx0q9\n"
          ],
          "name": "stdout"
        },
        {
          "output_type": "stream",
          "text": [
            "100%|██████████| 2794252905/2794252905 [02:20<00:00, 19872155.12B/s]"
          ],
          "name": "stderr"
        },
        {
          "output_type": "stream",
          "text": [
            "2019-06-28 17:12:34,569 copying /tmp/tmpto2wx0q9 to cache at /root/.flair/models/imdb.pt\n"
          ],
          "name": "stdout"
        },
        {
          "output_type": "stream",
          "text": [
            "\n"
          ],
          "name": "stderr"
        },
        {
          "output_type": "stream",
          "text": [
            "2019-06-28 17:13:29,940 removing temp file /tmp/tmpto2wx0q9\n",
            "2019-06-28 17:13:30,199 loading file /root/.flair/models/imdb.pt\n"
          ],
          "name": "stdout"
        },
        {
          "output_type": "stream",
          "text": [
            "/usr/local/lib/python3.6/dist-packages/torch/serialization.py:574: DeprecationWarning: Call to deprecated class DocumentLSTMEmbeddings. (The functionality of this class is moved to 'DocumentRNNEmbeddings') -- Deprecated since version 0.4.\n",
            "  result = unpickler.load()\n"
          ],
          "name": "stderr"
        }
      ]
    },
    {
      "cell_type": "code",
      "metadata": {
        "id": "aSbdKzEYENou",
        "colab_type": "code",
        "outputId": "dea22aa0-3743-4fad-e1d1-ea3e56e6cfb5",
        "colab": {
          "base_uri": "https://localhost:8080/",
          "height": 34
        }
      },
      "source": [
        "#Volumes have crossed threshold -ve\n",
        "#Breach has occurred -ve\n",
        "#Incident raised +ve\n",
        "#Ticket raised +ve\n",
        "#Please take action +ve\n",
        "#Murex upstream volumes are low -ve\n",
        "#Murex upstream volumes are high +ve\n",
        "#Murex upstream volumes are more than usual +ve\n",
        "\n",
        "sentence = Sentence('iProd issue is going on')\n",
        "\n",
        "# predict NER tags\n",
        "classifier.predict(sentence)\n",
        "\n",
        "# print sentence with predicted labels\n",
        "print(sentence.labels)"
      ],
      "execution_count": 0,
      "outputs": [
        {
          "output_type": "stream",
          "text": [
            "[NEGATIVE (0.6587236523628235)]\n"
          ],
          "name": "stdout"
        }
      ]
    },
    {
      "cell_type": "markdown",
      "metadata": {
        "id": "JtK4zMfzrENY",
        "colab_type": "text"
      },
      "source": [
        "#Word Embeddings "
      ]
    },
    {
      "cell_type": "markdown",
      "metadata": {
        "id": "X4W9p7ivXGb8",
        "colab_type": "text"
      },
      "source": [
        "Still in progress. Meanwhile you can explore **Understanding Word Embeddings** Notebook."
      ]
    },
    {
      "cell_type": "code",
      "metadata": {
        "id": "rzMeaKU6gPhy",
        "colab_type": "code",
        "colab": {}
      },
      "source": [
        ""
      ],
      "execution_count": 0,
      "outputs": []
    }
  ]
}
